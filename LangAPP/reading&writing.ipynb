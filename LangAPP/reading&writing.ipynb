{
 "cells": [
  {
   "cell_type": "markdown",
   "metadata": {},
   "source": [
    "## prompt + code + app"
   ]
  },
  {
   "cell_type": "markdown",
   "metadata": {},
   "source": [
    "#### ----"
   ]
  },
  {
   "cell_type": "code",
   "execution_count": 12,
   "metadata": {},
   "outputs": [],
   "source": [
    "from langchain import PromptTemplate\n",
    "\n",
    "from langchain.memory import ConversationBufferMemory\n",
    "from langchain.chains import ConversationChain\n",
    "memory = ConversationBufferMemory(memory_key=\"chat_history\",return_messages=True)\n",
    "conversation=ConversationChain(llm=llm, memory=memory)\n",
    "\n",
    "import streamlit as st\n",
    "from langchain import PromptTemplate\n",
    "from langchain.llms import OpenAI"
   ]
  },
  {
   "cell_type": "code",
   "execution_count": 11,
   "metadata": {},
   "outputs": [],
   "source": [
    "template=\"\"\"\n",
    "You are a helpful assistant that helps language learners.\n",
    "\n",
    "Your goal is to:\n",
    "- Generate long paragraph long text and translate each sentence to user's preferred translate language.\n",
    "- Generate texts that are easy to read and follow in that level.\n",
    "- Generate texts that are creative,arouse a sense of curiosity and related with the respective language's spoken country or countries culture,cousine,ancient cities,historical places,music,climate,architecture,landscapes\n",
    "- Ask the user to write a summary of that text, at the end of the generated text.\n",
    "- After the user writes a summary, evaluate that summary, indicate what the user did wrong grammatically and \n",
    "- Write take aways as bullet points\n",
    "- Show other 1-2 paragraph long alternative ways to write summary about that text.\n",
    "- Write these alternatives with its sentence sturucture and grammatical rules, and they should be short. \n",
    "- If user asks questions about sentence sturucture and grammatical rules, answer them. But do not answer other type of questions.\n",
    "\n",
    "Level: {level}\n",
    "Language: {language}\n",
    "Long: {long}\n",
    "Preference: {translate}\n",
    "Input: {summary}\n",
    "Your Response:\n",
    "\"\"\""
   ]
  },
  {
   "cell_type": "code",
   "execution_count": 9,
   "metadata": {},
   "outputs": [
    {
     "name": "stderr",
     "output_type": "stream",
     "text": [
      "2023-07-23 13:57:03.198 \n",
      "  \u001b[33m\u001b[1mWarning:\u001b[0m to view this Streamlit app on a browser, run it with the following\n",
      "  command:\n",
      "\n",
      "    streamlit run /Users/ezgiicerler/Library/Python/3.11/lib/python/site-packages/ipykernel_launcher.py [ARGUMENTS]\n"
     ]
    },
    {
     "data": {
      "text/plain": [
       "DeltaGenerator()"
      ]
     },
     "execution_count": 9,
     "metadata": {},
     "output_type": "execute_result"
    }
   ],
   "source": [
    "prompt = PromptTemplate(template=template,input_variables=[\"level\",\"language\",\"long\",\"translate\",\"summary\"])\n",
    "\n",
    "def load_llm(openai_api_key):\n",
    "    llm= OpenAI(temperature=.8,openai_api_key=openai_api_key)\n",
    "    conversation=ConversationChain(llm=llm, memory=memory)\n",
    "    return llm\n",
    "\n",
    "st.set_page_config(page_title=\"Reading-Writing\", page_icon=\":robot:\")\n",
    "st.header(\"Generate Text\")\n",
    "\n",
    "st.markdown(\"##Enter Your Level to generate Text\")"
   ]
  },
  {
   "cell_type": "code",
   "execution_count": 10,
   "metadata": {},
   "outputs": [],
   "source": [
    "def get_api_key():\n",
    "    input_text=st.text_input(label=\"OpenAI API Key\", placeholder=\"Ex: sk-2twmA8tfCb8un4...\", key=\"openai_api_key_input\")\n",
    "    return input_text\n",
    "openai_api_key=get_api_key()"
   ]
  },
  {
   "cell_type": "code",
   "execution_count": null,
   "metadata": {},
   "outputs": [],
   "source": [
    "col1,col2,col3,col4 = st.columns(4)\n",
    "with col1:\n",
    "    language_inputs= st.selectbox(\"Which language would you like your text to have?\",('German','English','Spanish','Turkish'))\n",
    "\n",
    "with col2:\n",
    "    level=st.selectbox(\"What is your level of proficiency\",('A1','A2','B1','B2','C1'))    \n",
    "\n",
    "with col3:\n",
    "    translate_input= st.selectbox(\"How many paragraphs would you like to read?\",('English','Turkish','German','Spanish','Portuguese'))\n",
    "\n",
    "with col4:\n",
    "    long_inputs= st.selectbox(\"How many paragraphs would you like to read?\",('1-2','2-3','3-4','4-5','5-6'))"
   ]
  },
  {
   "cell_type": "code",
   "execution_count": null,
   "metadata": {},
   "outputs": [],
   "source": [
    "def get_summary():\n",
    "    input_text= st.text_area(label=\"Summary Input\", label_visibility=\"collapsed\", placeholder=\"Your Summary...\", key=\"summary_input\")\n",
    "    return input_text\n",
    "input_=get_summary()\n",
    "\n",
    "if len(input_.split(\" \")) > 1000:\n",
    "    st.write(\"Please enter a shorter email. The maximum length is 1000 words.\")\n",
    "    st.stop()\n",
    "\n",
    "st.markdown(\"### Your Evaluated Summary:\")"
   ]
  },
  {
   "cell_type": "code",
   "execution_count": null,
   "metadata": {},
   "outputs": [],
   "source": [
    "if input_:\n",
    "    if not openai_api_key:\n",
    "        st.warning('Please insert OpenAI API Key. Instructions [here](https://help.openai.com/en/articles/4936850-where-do-i-find-my-secret-api-key)', icon=\"⚠️\")\n",
    "        st.stop()\n",
    "    \n",
    "    llm=load_llm(openai_api_key=openai_api_key)\n",
    "    prompt_with_sum=prompt.format(level=level, translate=translate_input, summary=input_, long=long_inputs, language=language_inputs)\n",
    "    summary_result=llm(prompt_with_sum)\n",
    "    st.write(summary_result)"
   ]
  }
 ],
 "metadata": {
  "kernelspec": {
   "display_name": "Python 3",
   "language": "python",
   "name": "python3"
  },
  "language_info": {
   "codemirror_mode": {
    "name": "ipython",
    "version": 3
   },
   "file_extension": ".py",
   "mimetype": "text/x-python",
   "name": "python",
   "nbconvert_exporter": "python",
   "pygments_lexer": "ipython3",
   "version": "3.11.4"
  },
  "orig_nbformat": 4
 },
 "nbformat": 4,
 "nbformat_minor": 2
}
